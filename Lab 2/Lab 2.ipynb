{
 "cells": [
  {
   "cell_type": "code",
   "execution_count": 4,
   "metadata": {},
   "outputs": [],
   "source": [
    "#!/usr/bin/env python2\n",
    "# -*- coding: utf-8 -*-\n",
    "\"\"\"\n",
    "ST 2: Mathematical Modeling of Propagation Phenomena\n",
    "TD 2: Centrality Criteria \n",
    "12 December 2018\n",
    "\"\"\"\n",
    "from helper import *\n",
    "import numpy as np\n",
    "import scipy.sparse as sparse\n",
    "from scipy.stats.stats import pearsonr\n",
    "import matplotlib.pyplot as plt\n",
    "import networkx as nx"
   ]
  },
  {
   "cell_type": "code",
   "execution_count": 5,
   "metadata": {},
   "outputs": [],
   "source": [
    "#################################### Part I ###################################\n",
    "\n",
    "# Read the edgelist of the NetScience network\n",
    "G = nx.read_edgelist(\"./NetScience.edgelist\", comments='#', delimiter='\\t')\n",
    "# Get the largest connected component of the network\n",
    "G = max(nx.connected_component_subgraphs(G), key=len) \n",
    "                "
   ]
  },
  {
   "cell_type": "code",
   "execution_count": 6,
   "metadata": {},
   "outputs": [],
   "source": [
    "# Exercise 1.1-1.5\n",
    "def compute_degree_centrality(graph):\n",
    "    '''\n",
    "    :param graph:\n",
    "    :return:\n",
    "        degree_centrality:\n",
    "        Dictionary of nodes with degree centrality as the value\n",
    "    '''\n",
    "    degree_centrality = graph.degree#\n",
    "    \n",
    "    return degree_centrality\n"
   ]
  },
  {
   "cell_type": "code",
   "execution_count": 7,
   "metadata": {},
   "outputs": [
    {
     "data": {
      "text/plain": [
       "10"
      ]
     },
     "execution_count": 7,
     "metadata": {},
     "output_type": "execute_result"
    }
   ],
   "source": [
    "compute_degree_centrality(G)['343']"
   ]
  },
  {
   "cell_type": "code",
   "execution_count": 8,
   "metadata": {},
   "outputs": [],
   "source": [
    "def compute_closeness_centrality(graph):\n",
    "    '''\n",
    "    :param graph:\n",
    "    :return:\n",
    "        closeness_centrality:\n",
    "        Dictionary of nodes with closeness centrality as the value\n",
    "    '''\n",
    "    closeness_centrality = {}\n",
    "    number_nodes = len(list(graph.nodes))\n",
    "    for node in graph.nodes:\n",
    "        closeness_centrality[node] =(number_nodes-1)/sum(list(nx.single_source_shortest_path_length(G, node , cutoff = None ).values()))\n",
    "    return closeness_centrality\n"
   ]
  },
  {
   "cell_type": "code",
   "execution_count": 9,
   "metadata": {},
   "outputs": [],
   "source": [
    "def compute_harmonic_centrality(graph):\n",
    "    '''\n",
    "    :param graph:\n",
    "    :return:\n",
    "        harmonic_centrality:\n",
    "        Dictionary of nodes with harmonic centrality as the value\n",
    "    '''\n",
    "    harmonic_centrality = {}\n",
    "    for node in graph.nodes:\n",
    "        harmonic_centrality[node] =1/sum(list(nx.single_source_shortest_path_length(G, node , cutoff = None ).values()))\n",
    "\n",
    "\n",
    "    ###\n",
    "    return harmonic_centrality"
   ]
  },
  {
   "cell_type": "code",
   "execution_count": 12,
   "metadata": {},
   "outputs": [],
   "source": [
    "def compute_core_number(graph):\n",
    "    '''\n",
    "    :param graph:\n",
    "    :return:\n",
    "        core_number:\n",
    "        Dictionary of nodes with core number as the value\n",
    "    '''\n",
    "    G = graph.copy()\n",
    "    core_number = {}\n",
    "    max_degree = max(dict(compute_degree_centrality(G)).values())\n",
    "    n_nodes = len(list(graph.nodes))\n",
    "    counter = 0\n",
    "    for k in range(max_degree + 1):\n",
    "        continue_searching = True\n",
    "        if counter <= n_nodes:\n",
    "            while (continue_searching):\n",
    "                #print('no while de  {}'.format(k))\n",
    "                for node in graph.nodes:\n",
    "                    if node not in core_number:\n",
    "                        #print('node {}'.format(node))\n",
    "                        if (compute_degree_centrality(G)[node] <= k):\n",
    "                            #print('pop {}'.format(node))\n",
    "                            G.remove_node(node)\n",
    "                            counter += 1\n",
    "                            core_number[node] = k\n",
    "                continue_searching = False\n",
    "                for x in  dict(compute_degree_centrality(G)).values():\n",
    "                    if x <= k:\n",
    "                        continue_searching = True\n",
    "\n",
    "    return core_number"
   ]
  },
  {
   "cell_type": "code",
   "execution_count": 19,
   "metadata": {},
   "outputs": [
    {
     "name": "stdout",
     "output_type": "stream",
     "text": [
      "True\n"
     ]
    }
   ],
   "source": [
    "''''testing if the algorithm works'''''\n",
    "print(compute_core_number(G) == nx.core_number(G))"
   ]
  },
  {
   "cell_type": "code",
   "execution_count": 21,
   "metadata": {},
   "outputs": [],
   "source": [
    "def compute_neighborhood_coreness(graph):\n",
    "    '''\n",
    "    :param graph:\n",
    "    :return:\n",
    "        nb_coreness:\n",
    "        Dictionary of nodes with core number as the value\n",
    "    '''\n",
    "    nb_coreness = {}\n",
    "    for node in graph.nodes:\n",
    "        C = 0\n",
    "        for neighbor in nx.neighbors(graph,node):\n",
    "            C += nx.core_number(G)[neighbor]\n",
    "        nb_coreness[node] = C\n",
    "    \n",
    "    \n",
    "\n",
    "    ###\n",
    "    return nb_coreness"
   ]
  },
  {
   "cell_type": "code",
   "execution_count": null,
   "metadata": {},
   "outputs": [],
   "source": []
  },
  {
   "cell_type": "code",
   "execution_count": 31,
   "metadata": {},
   "outputs": [
    {
     "data": {
      "image/png": "[encoded data removed]",
      "text/plain": [
       "<Figure size 432x288 with 2 Axes>"
      ]
     },
     "metadata": {
      "needs_background": "light"
     },
     "output_type": "display_data"
    }
   ],
   "source": [
    "## Exercise 1.6\n",
    "# Choose your centrality measure\n",
    "node2values = compute_neighborhood_coreness(G)\n",
    "visualize(graph=G, values=node2values, node_size=10)"
   ]
  },
  {
   "cell_type": "code",
   "execution_count": null,
   "metadata": {},
   "outputs": [],
   "source": []
  }
 ],
 "metadata": {
  "kernelspec": {
   "display_name": "Python 3",
   "language": "python",
   "name": "python3"
  },
  "language_info": {
   "codemirror_mode": {
    "name": "ipython",
    "version": 3
   },
   "file_extension": ".py",
   "mimetype": "text/x-python",
   "name": "python",
   "nbconvert_exporter": "python",
   "pygments_lexer": "ipython3",
   "version": "3.7.0"
  }
 },
 "nbformat": 4,
 "nbformat_minor": 2
}
